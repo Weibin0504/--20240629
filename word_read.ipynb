{
 "cells": [
  {
   "cell_type": "code",
   "execution_count": 10,
   "id": "c471031c-250a-449a-b77c-f49dc27bc4dc",
   "metadata": {},
   "outputs": [],
   "source": [
    "import docx\n",
    "import os\n",
    "import pandas as pd\n"
   ]
  },
  {
   "cell_type": "code",
   "execution_count": 22,
   "id": "4945cca3-e650-4299-9fc6-9fa8bfcff5a3",
   "metadata": {},
   "outputs": [],
   "source": [
    "#初始化dataframe\n",
    "#excel_res = pd.DataFrame(columns=['Name', 'num', '第1题', '第2题', '第3题', '第4题', '第5题', '第6题', '第7题', '第8题', '第9题', '第10题', '第11题', '第12题', '第13题', '第14题', '第15题', '第16题', '第17题', '第18题', '第19题', '第20题',  'score', 'short_answer'])\n",
    "excel_res = pd.DataFrame()\n",
    "# 加载Word文档\n",
    "#doc = docx.Document('123.docx')\n",
    "# 存储提取的内容\n",
    "\n",
    "def choose(i, paragraph, score, choose_ture, student_res):\n",
    "    if '第'+str(i)+'题：' in paragraph.text:\n",
    "        choose_student = paragraph.text.split('第'+str(i)+'题：', 1)[1].strip().upper()\n",
    "        student_res.append(choose_student)\n",
    "    else:\n",
    "        choose_student = '错误'\n",
    "    if choose_student == choose_ture[i-1]:\n",
    "        score += 3\n",
    "    return score, student_res\n",
    "\n",
    "def judge(i, paragraph, score, judge_ture, student_res):\n",
    "    if '第'+str(i)+'题：' in paragraph.text:\n",
    "        judge_student = paragraph.text.split('第'+str(i)+'题：', 1)[1].strip()\n",
    "        student_res.append(judge_student)\n",
    "    else:\n",
    "        judge_student = '错误'\n",
    "    if judge_student == judge_ture[i-11]:\n",
    "        score += 2\n",
    "    return score, student_res\n",
    "\n",
    "def short_answer(doc):\n",
    "    short = ''\n",
    "    for paragraph in doc.paragraphs:\n",
    "        short += paragraph.text.replace(\"\\n\", \"\")\n",
    "    short_res = short.split('简答题（每题10分，共50分）', 1)[1].strip()\n",
    "    return short_res\n",
    "    \n",
    "def student_score(doc):\n",
    "# 遍历文档中的段落并提取联系人关键字对应的内容\n",
    "    score = 0\n",
    "    student_res = []\n",
    "    choose_ture = ['A', 'A', 'A', 'A', 'A', 'A', 'A', 'A', 'A', 'A']\n",
    "    judge_ture = ['对', '对', '对', '对', '对', '对', '对', '对', '对', '对']\n",
    "    for paragraph in doc.paragraphs:\n",
    "        #print(paragraph.text)\n",
    "        if '姓名：' in paragraph.text:\n",
    "            # 获取关键字后面的内容\n",
    "            #print(paragraph.text)\n",
    "            name = paragraph.text.split('姓名：', 1)[1].strip()\n",
    "            student_res.append(name)\n",
    "            #print(name)\n",
    "        if '学号' in paragraph.text:\n",
    "            # 获取关键字后面的内容\n",
    "            #print(paragraph.text)\n",
    "            num = paragraph.text.split('学号：', 1)[1].strip()\n",
    "            student_res.append(num)\n",
    "            print(num)\n",
    "        for i in range(1,11):\n",
    "            score, student_res = choose(i, paragraph, score, choose_ture, student_res)\n",
    "        for i in range(11,21):\n",
    "            score, student_res = judge(i, paragraph, score, judge_ture, student_res)\n",
    "    student_res.append(score)\n",
    "    return student_res\n",
    "\n",
    "\n",
    "\n",
    "                \n"
   ]
  },
  {
   "cell_type": "code",
   "execution_count": 23,
   "id": "9e9b37bf-efe6-4537-ac2f-f0a614d45306",
   "metadata": {},
   "outputs": [
    {
     "name": "stdout",
     "output_type": "stream",
     "text": [
      "['.ipynb_checkpoints', '123 - 副本 - 副本 (2).docx', '123 - 副本 - 副本.docx', '123 - 副本.docx', '123.docx', 'student_score.xlsx', 'word_read.ipynb']\n",
      "10002\n",
      "['张三', '10002', '我', 'B', '', 'A', 'A', 'C', '', 'A', '', '', '对', '错', '', '', '', '', '', '', '', '对', 13, '21.答：11111122.答：哇哇哇哇哇哇哇哇哇23.答：24.答：25.答：']\n",
      "10012\n",
      "['李滨', '10012', '我', 'B', 'C', 'A', 'A', 'C', '', '', '', '', '对', '错', '', '', '', '', '', '', '', '', 8, '21.答：11122.答：22223.答：24.答：25.答：']\n",
      "19002\n",
      "['赵滨', '19002', '我', 'B', 'C', 'A', 'A', 'C', '', '', '', '', '', '错', '', '', '', '', '', '', '', '', 6, '21.答：22.答：23.答：24.答：25.答：']\n",
      "10002\n",
      "['韦滨', '10002', '我', 'B', 'C', 'A', 'A', 'C', '', '', '', '', '对', '错', '', '', '', '', '', '', '', '', 8, '21.答：123嗡嗡嗡22.答：钱钱钱www23.答：122wss哇哇哇哇哇哇哇哇哇哇哇哇哇哇哇哇哇哇哇哇哇哇哇哇哇哇哇哇哇哇哇哇哇哇哇哇哇哇122wss哇哇哇哇哇哇哇哇哇哇哇哇哇哇哇哇哇哇哇哇哇哇哇哇哇哇哇哇哇哇哇哇哇哇哇哇哇哇24.答：25.答：']\n"
     ]
    }
   ],
   "source": [
    "#遍历所有word文档\n",
    "path = r'C:\\\\Users\\\\韦滨\\\\Desktop\\\\code\\\\word_read'\n",
    "files_list = os.listdir(path)\n",
    "print(files_list)\n",
    "\n",
    "for file_name in files_list:\n",
    "    # 判断文件类型是否在文件名中\n",
    "    if '.docx' in file_name:\n",
    "        path1=\"C:\\\\Users\\\\韦滨\\\\Desktop\\\\code\\\\word_read\\\\\"+file_name\n",
    "        doc = docx.Document(path1)\n",
    "        student_res = student_score(doc)\n",
    "        short_res = short_answer(doc)\n",
    "        student_res.append(short_res)\n",
    "        print(student_res)\n",
    "        excel_res = pd.concat([excel_res, pd.DataFrame([student_res])], ignore_index=True)\n",
    "        #excel_res = excel_res.append(student_res)\n",
    "\n",
    "excel_res.to_excel('student_score.xlsx', index=True)\n",
    "\n"
   ]
  },
  {
   "cell_type": "code",
   "execution_count": null,
   "id": "226a0f03-677e-4749-b1fc-993d25b9d416",
   "metadata": {},
   "outputs": [],
   "source": [
    "# path为：保存路径+文件名.xlsx。\n",
    "df.to_excel(path, index=False, header=True, encoding='utf_8_sig')\n"
   ]
  }
 ],
 "metadata": {
  "kernelspec": {
   "display_name": "Python 3 (ipykernel)",
   "language": "python",
   "name": "python3"
  },
  "language_info": {
   "codemirror_mode": {
    "name": "ipython",
    "version": 3
   },
   "file_extension": ".py",
   "mimetype": "text/x-python",
   "name": "python",
   "nbconvert_exporter": "python",
   "pygments_lexer": "ipython3",
   "version": "3.8.19"
  }
 },
 "nbformat": 4,
 "nbformat_minor": 5
}
